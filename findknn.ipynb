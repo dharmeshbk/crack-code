{
  "nbformat": 4,
  "nbformat_minor": 0,
  "metadata": {
    "colab": {
      "name": "findknn.ipynb",
      "version": "0.3.2",
      "provenance": [],
      "include_colab_link": true
    },
    "kernelspec": {
      "name": "python3",
      "display_name": "Python 3"
    }
  },
  "cells": [
    {
      "cell_type": "markdown",
      "metadata": {
        "id": "view-in-github",
        "colab_type": "text"
      },
      "source": [
        "<a href=\"https://colab.research.google.com/github/dharmeshbk/crack-code/blob/master/findknn.ipynb\" target=\"_parent\"><img src=\"https://colab.research.google.com/assets/colab-badge.svg\" alt=\"Open In Colab\"/></a>"
      ]
    },
    {
      "cell_type": "code",
      "metadata": {
        "id": "8NLRplv5dpAe",
        "colab_type": "code",
        "colab": {}
      },
      "source": [
        "import numpy as np\n",
        "import operator\n",
        "import math"
      ],
      "execution_count": 0,
      "outputs": []
    },
    {
      "cell_type": "code",
      "metadata": {
        "id": "VG3IMlutjvxY",
        "colab_type": "code",
        "colab": {}
      },
      "source": [
        "def innerproduct(X,Z=None):\n",
        "    # function innerproduct(X,Z)\n",
        "    #\n",
        "    # Computes the inner-product matrix.\n",
        "    # Syntax:\n",
        "    # D=innerproduct(X,Z)\n",
        "    # Input:\n",
        "    # X: nxd data matrix with n vectors (rows) of dimensionality d\n",
        "    # Z: mxd data matrix with m vectors (rows) of dimensionality d\n",
        "    #\n",
        "    # Output:\n",
        "    # Matrix G of size nxm\n",
        "    # G[i,j] is the inner-product between vectors X[i,:] and Z[j,:]\n",
        "    #\n",
        "    # call with only one input:\n",
        "    # innerproduct(X)=innerproduct(X,X)\n",
        "    #\n",
        "    if Z is None: # case when there is only one input (X)\n",
        "        Z=X;\n",
        "\n",
        "    # YOUR CODE HERE\n",
        "    G = np.float64\n",
        "    G = np.dot(X,np.transpose(Z))\n",
        "    \n",
        "    return G"
      ],
      "execution_count": 0,
      "outputs": []
    },
    {
      "cell_type": "code",
      "metadata": {
        "id": "sR4bkYoT4khR",
        "colab_type": "code",
        "colab": {}
      },
      "source": [
        "def euclidianDistance(sample1, sample2, length):\n",
        "    distance = 0\n",
        "    for x in range(length):\n",
        "       distance += pow((sample1[x] - sample2[x]), 2)\n",
        "        \n",
        "    print('distance result is',distance)    \n",
        "    return math.sqrt(distance)"
      ],
      "execution_count": 0,
      "outputs": []
    },
    {
      "cell_type": "code",
      "metadata": {
        "id": "d4aBy_UgdxYe",
        "colab_type": "code",
        "colab": {}
      },
      "source": [
        "\n",
        "def l2distance(X,Z=None):\n",
        "    # function D=l2distance(X,Z)\n",
        "    #\n",
        "    # Computes the Euclidean distance matrix.\n",
        "    # Syntax:\n",
        "    # D=l2distance(X,Z)\n",
        "    # Input:\n",
        "    # X: nxd data matrix with n vectors (rows) of dimensionality d\n",
        "    # Z: mxd data matrix with m vectors (rows) of dimensionality d\n",
        "    #\n",
        "    # Output:\n",
        "    # Matrix D of size nxm\n",
        "    # D(i,j) is the Euclidean distance of X(i,:) and Z(j,:)\n",
        "    #\n",
        "    # call with only one input:\n",
        "    # l2distance(X)=l2distance(X,X)\n",
        "    #\n",
        "    if Z is None:\n",
        "        Z=X;\n",
        "\n",
        "    #print('d1 is ',X.shape,' and d2 is ',Z.shape)\n",
        "        \n",
        "    n,d1=X.shape\n",
        "    m,d2=Z.shape\n",
        "    \n",
        "    assert (d1==d2), \"Dimensions of input vectors must match!\"\n",
        "    #print('X is ',X)\n",
        "    #print ('Z is',Z)\n",
        "    # YOUR CODE HERE\n",
        "    S = np.sum(X**2, axis=1)[:, np.newaxis]\n",
        "    R = np.sum(Z**2, axis=1)\n",
        "    G = innerproduct(X,Z)\n",
        "    D = np.float64\n",
        "    D = S + R - np.dot(2,G)\n",
        "    #print('l2 distance is ', np.sqrt(D))\n",
        "    return np.sqrt(D)\n",
        "  "
      ],
      "execution_count": 0,
      "outputs": []
    },
    {
      "cell_type": "code",
      "metadata": {
        "id": "WLnn4_7vjJVx",
        "colab_type": "code",
        "colab": {}
      },
      "source": [
        "def findknn(xTraing,xTest,k):\n",
        "  #Step 1 : Get the data\n",
        "  #Step 2 : Find the euclidean distance using existing formula\n",
        "  \n",
        "  distances = []\n",
        "  neighbors = []\n",
        "  \n",
        "  length = len(xTest) - 1\n",
        "  \n",
        "  l = len(xTraing)\n",
        "  #print('dist and xTraining[X] is')\n",
        "  for x in range(l):\n",
        "    dist = l2distance(xTest,xTraing[:x])\n",
        "    #dist = euclidianDistance(xTest,xTraing[x],length)\n",
        "    ##print(dist)\n",
        "    ##print(xTraing[x])\n",
        "    distances.append((xTraing[x],dist))\n",
        "    \n",
        "  ##print(distances.shape)\n",
        "  ##print(distances[0])\n",
        "  #distances.sort(key=operator.itemgetter(1))\n",
        "  \n",
        "  \n",
        "  for x in range(k):\n",
        "    neighbors.append(distances[x][0])\n",
        "    \n",
        "  return neighbors"
      ],
      "execution_count": 0,
      "outputs": []
    },
    {
      "cell_type": "code",
      "metadata": {
        "id": "reEv8rbjmgtA",
        "colab_type": "code",
        "colab": {}
      },
      "source": [
        "## Traing Set\n",
        "xTr = np.array([[1,1],[1,2],[2,3],[7,5],[6,5]])\n",
        "# Traing Label\n",
        "yTr = np.array([1,1,1,-1,-1])\n",
        "## Test Set\n",
        "xTe = np.array([[7,6],[2,3]])\n",
        "# Test Label\n",
        "yTe = np.array([-1,1])\n",
        "\n",
        "n,d1=xTr.shape\n",
        "#print(xTr)\n",
        "m,d2=xTe.shape\n",
        "#print(xTe)\n",
        "\n",
        "nbor = findknn(xTr,xTe,3)\n"
      ],
      "execution_count": 0,
      "outputs": []
    },
    {
      "cell_type": "code",
      "metadata": {
        "id": "uEtHTERKoIiy",
        "colab_type": "code",
        "outputId": "cacf34f2-470a-42f7-d364-d7d7de22203c",
        "colab": {
          "base_uri": "https://localhost:8080/",
          "height": 119
        }
      },
      "source": [
        "a = np.array([[12, 15], [10, 1],[1,1]]) \n",
        "print(a)\n",
        "np.sort(a, axis = -1) ##First axis"
      ],
      "execution_count": 0,
      "outputs": [
        {
          "output_type": "stream",
          "text": [
            "[[12 15]\n",
            " [10  1]\n",
            " [ 1  1]]\n"
          ],
          "name": "stdout"
        },
        {
          "output_type": "execute_result",
          "data": {
            "text/plain": [
              "array([[12, 15],\n",
              "       [ 1, 10],\n",
              "       [ 1,  1]])"
            ]
          },
          "metadata": {
            "tags": []
          },
          "execution_count": 167
        }
      ]
    },
    {
      "cell_type": "code",
      "metadata": {
        "id": "FgAPxADau4Fm",
        "colab_type": "code",
        "outputId": "b5805ead-f0b9-4ade-bd8c-c4cca57e8e83",
        "colab": {
          "base_uri": "https://localhost:8080/",
          "height": 251
        }
      },
      "source": [
        "xTr = np.random.rand(500,10) # defininng 500 training data points \n",
        "xTe = np.random.rand(300,10) # defining 300 testing data points\n",
        "Ig,Dg = findknn(xTr,xTe,5) # compute indices and distances to the 5- nearest neighbors \n",
        "  # check if Ig is a matrix of integers, Dg a matrix of floats\n",
        "#test=(type(Ig)==np.ndarray)  & (type(Ig)==np.ndarray) & ((type(Dg[0][0])==np.float64) or (type(Dg[0][0])==np.float32)) & ((type(Dg[0][0])==np.float64) or (type(Dg[0][0])==np.float32))\n",
        "  ##return test\n"
      ],
      "execution_count": 0,
      "outputs": [
        {
          "output_type": "error",
          "ename": "ValueError",
          "evalue": "ignored",
          "traceback": [
            "\u001b[0;31m---------------------------------------------------------------------------\u001b[0m",
            "\u001b[0;31mValueError\u001b[0m                                Traceback (most recent call last)",
            "\u001b[0;32m<ipython-input-174-2949f0a0cf15>\u001b[0m in \u001b[0;36m<module>\u001b[0;34m()\u001b[0m\n\u001b[1;32m      1\u001b[0m \u001b[0mxTr\u001b[0m \u001b[0;34m=\u001b[0m \u001b[0mnp\u001b[0m\u001b[0;34m.\u001b[0m\u001b[0mrandom\u001b[0m\u001b[0;34m.\u001b[0m\u001b[0mrand\u001b[0m\u001b[0;34m(\u001b[0m\u001b[0;36m500\u001b[0m\u001b[0;34m,\u001b[0m\u001b[0;36m10\u001b[0m\u001b[0;34m)\u001b[0m \u001b[0;31m# defininng 500 training data points\u001b[0m\u001b[0;34m\u001b[0m\u001b[0;34m\u001b[0m\u001b[0m\n\u001b[1;32m      2\u001b[0m \u001b[0mxTe\u001b[0m \u001b[0;34m=\u001b[0m \u001b[0mnp\u001b[0m\u001b[0;34m.\u001b[0m\u001b[0mrandom\u001b[0m\u001b[0;34m.\u001b[0m\u001b[0mrand\u001b[0m\u001b[0;34m(\u001b[0m\u001b[0;36m300\u001b[0m\u001b[0;34m,\u001b[0m\u001b[0;36m10\u001b[0m\u001b[0;34m)\u001b[0m \u001b[0;31m# defining 300 testing data points\u001b[0m\u001b[0;34m\u001b[0m\u001b[0;34m\u001b[0m\u001b[0m\n\u001b[0;32m----> 3\u001b[0;31m \u001b[0mIg\u001b[0m\u001b[0;34m,\u001b[0m\u001b[0mDg\u001b[0m \u001b[0;34m=\u001b[0m \u001b[0mfindknn\u001b[0m\u001b[0;34m(\u001b[0m\u001b[0mxTr\u001b[0m\u001b[0;34m,\u001b[0m\u001b[0mxTe\u001b[0m\u001b[0;34m,\u001b[0m\u001b[0;36m5\u001b[0m\u001b[0;34m)\u001b[0m \u001b[0;31m# compute indices and distances to the 5- nearest neighbors\u001b[0m\u001b[0;34m\u001b[0m\u001b[0;34m\u001b[0m\u001b[0m\n\u001b[0m\u001b[1;32m      4\u001b[0m   \u001b[0;31m# check if Ig is a matrix of integers, Dg a matrix of floats\u001b[0m\u001b[0;34m\u001b[0m\u001b[0;34m\u001b[0m\u001b[0;34m\u001b[0m\u001b[0m\n\u001b[1;32m      5\u001b[0m \u001b[0;31m#test=(type(Ig)==np.ndarray)  & (type(Ig)==np.ndarray) & ((type(Dg[0][0])==np.float64) or (type(Dg[0][0])==np.float32)) & ((type(Dg[0][0])==np.float64) or (type(Dg[0][0])==np.float32))\u001b[0m\u001b[0;34m\u001b[0m\u001b[0;34m\u001b[0m\u001b[0;34m\u001b[0m\u001b[0m\n",
            "\u001b[0;31mValueError\u001b[0m: too many values to unpack (expected 2)"
          ]
        }
      ]
    },
    {
      "cell_type": "code",
      "metadata": {
        "id": "Aj1RFkzk4f4f",
        "colab_type": "code",
        "colab": {}
      },
      "source": [
        ""
      ],
      "execution_count": 0,
      "outputs": []
    },
    {
      "cell_type": "code",
      "metadata": {
        "id": "euclqY_14br8",
        "colab_type": "code",
        "colab": {}
      },
      "source": [
        ""
      ],
      "execution_count": 0,
      "outputs": []
    }
  ]
}